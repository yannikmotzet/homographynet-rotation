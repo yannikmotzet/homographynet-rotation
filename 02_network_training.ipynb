{
 "cells": [
  {
   "cell_type": "code",
   "execution_count": 1,
   "metadata": {},
   "outputs": [
    {
     "name": "stderr",
     "output_type": "stream",
     "text": [
      "2022-09-29 18:49:03.195430: I tensorflow/core/platform/cpu_feature_guard.cc:193] This TensorFlow binary is optimized with oneAPI Deep Neural Network Library (oneDNN) to use the following CPU instructions in performance-critical operations:  AVX2 AVX_VNNI FMA\n",
      "To enable them in other operations, rebuild TensorFlow with the appropriate compiler flags.\n",
      "2022-09-29 18:49:03.398146: I tensorflow/core/util/util.cc:169] oneDNN custom operations are on. You may see slightly different numerical results due to floating-point round-off errors from different computation orders. To turn them off, set the environment variable `TF_ENABLE_ONEDNN_OPTS=0`.\n",
      "2022-09-29 18:49:03.469240: E tensorflow/stream_executor/cuda/cuda_blas.cc:2981] Unable to register cuBLAS factory: Attempting to register factory for plugin cuBLAS when one has already been registered\n",
      "2022-09-29 18:49:04.239127: W tensorflow/stream_executor/platform/default/dso_loader.cc:64] Could not load dynamic library 'libnvinfer.so.7'; dlerror: libnvinfer.so.7: cannot open shared object file: No such file or directory\n",
      "2022-09-29 18:49:04.239213: W tensorflow/stream_executor/platform/default/dso_loader.cc:64] Could not load dynamic library 'libnvinfer_plugin.so.7'; dlerror: libnvinfer_plugin.so.7: cannot open shared object file: No such file or directory\n",
      "2022-09-29 18:49:04.239219: W tensorflow/compiler/tf2tensorrt/utils/py_utils.cc:38] TF-TRT Warning: Cannot dlopen some TensorRT libraries. If you would like to use Nvidia GPU with TensorRT, please make sure the missing libraries mentioned above are installed properly.\n"
     ]
    },
    {
     "name": "stdout",
     "output_type": "stream",
     "text": [
      "tf version: 2.10.0\n",
      "GPUs:  [PhysicalDevice(name='/physical_device:GPU:0', device_type='GPU')]\n"
     ]
    },
    {
     "name": "stderr",
     "output_type": "stream",
     "text": [
      "2022-09-29 18:49:05.296302: I tensorflow/stream_executor/cuda/cuda_gpu_executor.cc:966] could not open file to read NUMA node: /sys/bus/pci/devices/0000:01:00.0/numa_node\n",
      "Your kernel may have been built without NUMA support.\n",
      "2022-09-29 18:49:05.350499: I tensorflow/stream_executor/cuda/cuda_gpu_executor.cc:966] could not open file to read NUMA node: /sys/bus/pci/devices/0000:01:00.0/numa_node\n",
      "Your kernel may have been built without NUMA support.\n",
      "2022-09-29 18:49:05.350532: I tensorflow/stream_executor/cuda/cuda_gpu_executor.cc:966] could not open file to read NUMA node: /sys/bus/pci/devices/0000:01:00.0/numa_node\n",
      "Your kernel may have been built without NUMA support.\n"
     ]
    }
   ],
   "source": [
    "import os\n",
    "import numpy as np\n",
    "import pickle\n",
    "import matplotlib.pyplot as plt\n",
    "from datetime import datetime\n",
    "import random\n",
    "\n",
    "import tensorflow as tf\n",
    "from tensorflow.keras.models import Sequential, Model\n",
    "from tensorflow.keras.layers import Dense, Dropout, Activation, Flatten, Lambda, Concatenate, BatchNormalization\n",
    "from tensorflow.keras.layers import Input, Add, Conv2D, MaxPooling2D, AveragePooling2D, Softmax, InputLayer\n",
    "from tensorflow.keras.utils import plot_model\n",
    "from tensorflow.keras.callbacks import ModelCheckpoint\n",
    "from keras import backend as K\n",
    "\n",
    "# set random seed value for reproducable results\n",
    "seed_value= 4815\n",
    "os.environ['PYTHONHASHSEED']=str(seed_value)\n",
    "random.seed(seed_value)\n",
    "np.random.seed(seed_value)\n",
    "tf.random.set_seed(seed_value)\n",
    "\n",
    "print(f\"tf version: {tf.__version__}\")\n",
    "print(\"GPUs: \", tf.config.list_physical_devices('GPU'))"
   ]
  },
  {
   "cell_type": "code",
   "execution_count": 2,
   "metadata": {},
   "outputs": [],
   "source": [
    "EPOCHS = 50\n",
    "BATCH_SIZE_TRAIN = 64\n",
    "VALIDATION = True"
   ]
  },
  {
   "cell_type": "markdown",
   "metadata": {},
   "source": [
    "# load data"
   ]
  },
  {
   "cell_type": "code",
   "execution_count": 3,
   "metadata": {},
   "outputs": [
    {
     "name": "stdout",
     "output_type": "stream",
     "text": [
      "number training data: 78720\n",
      "batch_size_train: 64\n",
      "number validation data: 38528\n",
      "batch_size_val: 64\n"
     ]
    }
   ],
   "source": [
    "data_path = \"data/\"\n",
    "train_path = data_path + \"train2014/train2014\"\n",
    "val_path = data_path + \"val2014/val2014\"\n",
    "\n",
    "with open(os.path.join(train_path +\"_processed.pickle\"), \"rb\") as f:\n",
    "    training_data = pickle.load(f)\n",
    "len_training_data_raw = len(training_data)\n",
    "\n",
    "with open(os.path.join(val_path + \"_processed.pickle\"), \"rb\") as f:\n",
    "    validation_data = pickle.load(f)\n",
    "\n",
    "training_data = training_data[:len(training_data) // BATCH_SIZE_TRAIN * BATCH_SIZE_TRAIN]\n",
    "print(f\"number training data: {len(training_data)}\")\n",
    "print(\"batch_size_train: \" + str(BATCH_SIZE_TRAIN))\n",
    "if VALIDATION:\n",
    "    # batch_size_val = int(BATCH_SIZE_TRAIN * (len(validation_data) / (len_training_data_raw + len(validation_data))))\n",
    "    batch_size_val = BATCH_SIZE_TRAIN\n",
    "    validation_data = validation_data[:len(validation_data) // batch_size_val * batch_size_val]\n",
    "    print(f\"number validation data: {len(validation_data)}\")\n",
    "    print(f\"batch_size_val: {batch_size_val}\")"
   ]
  },
  {
   "cell_type": "markdown",
   "metadata": {},
   "source": [
    "# construct network"
   ]
  },
  {
   "cell_type": "code",
   "execution_count": 4,
   "metadata": {},
   "outputs": [
    {
     "name": "stderr",
     "output_type": "stream",
     "text": [
      "2022-09-29 18:49:26.019327: I tensorflow/core/platform/cpu_feature_guard.cc:193] This TensorFlow binary is optimized with oneAPI Deep Neural Network Library (oneDNN) to use the following CPU instructions in performance-critical operations:  AVX2 AVX_VNNI FMA\n",
      "To enable them in other operations, rebuild TensorFlow with the appropriate compiler flags.\n",
      "2022-09-29 18:49:26.021199: I tensorflow/stream_executor/cuda/cuda_gpu_executor.cc:966] could not open file to read NUMA node: /sys/bus/pci/devices/0000:01:00.0/numa_node\n",
      "Your kernel may have been built without NUMA support.\n",
      "2022-09-29 18:49:26.021269: I tensorflow/stream_executor/cuda/cuda_gpu_executor.cc:966] could not open file to read NUMA node: /sys/bus/pci/devices/0000:01:00.0/numa_node\n",
      "Your kernel may have been built without NUMA support.\n",
      "2022-09-29 18:49:26.021282: I tensorflow/stream_executor/cuda/cuda_gpu_executor.cc:966] could not open file to read NUMA node: /sys/bus/pci/devices/0000:01:00.0/numa_node\n",
      "Your kernel may have been built without NUMA support.\n",
      "2022-09-29 18:49:26.870337: I tensorflow/stream_executor/cuda/cuda_gpu_executor.cc:966] could not open file to read NUMA node: /sys/bus/pci/devices/0000:01:00.0/numa_node\n",
      "Your kernel may have been built without NUMA support.\n",
      "2022-09-29 18:49:26.870714: I tensorflow/stream_executor/cuda/cuda_gpu_executor.cc:966] could not open file to read NUMA node: /sys/bus/pci/devices/0000:01:00.0/numa_node\n",
      "Your kernel may have been built without NUMA support.\n",
      "2022-09-29 18:49:26.870730: I tensorflow/core/common_runtime/gpu/gpu_device.cc:1700] Could not identify NUMA node of platform GPU id 0, defaulting to 0.  Your kernel may not have been built with NUMA support.\n",
      "2022-09-29 18:49:26.870754: I tensorflow/stream_executor/cuda/cuda_gpu_executor.cc:966] could not open file to read NUMA node: /sys/bus/pci/devices/0000:01:00.0/numa_node\n",
      "Your kernel may have been built without NUMA support.\n",
      "2022-09-29 18:49:26.871010: I tensorflow/core/common_runtime/gpu/gpu_device.cc:1616] Created device /job:localhost/replica:0/task:0/device:GPU:0 with 5440 MB memory:  -> device: 0, name: NVIDIA GeForce RTX 3060 Ti, pci bus id: 0000:01:00.0, compute capability: 8.6\n"
     ]
    },
    {
     "name": "stdout",
     "output_type": "stream",
     "text": [
      "Model: \"sequential\"\n",
      "_________________________________________________________________\n",
      " Layer (type)                Output Shape              Param #   \n",
      "=================================================================\n",
      " conv2d (Conv2D)             (None, 128, 128, 64)      1216      \n",
      "                                                                 \n",
      " batch_normalization (BatchN  (None, 128, 128, 64)     256       \n",
      " ormalization)                                                   \n",
      "                                                                 \n",
      " conv2d_1 (Conv2D)           (None, 128, 128, 64)      36928     \n",
      "                                                                 \n",
      " batch_normalization_1 (Batc  (None, 128, 128, 64)     256       \n",
      " hNormalization)                                                 \n",
      "                                                                 \n",
      " max_pooling2d (MaxPooling2D  (None, 64, 64, 64)       0         \n",
      " )                                                               \n",
      "                                                                 \n",
      " conv2d_2 (Conv2D)           (None, 64, 64, 64)        36928     \n",
      "                                                                 \n",
      " batch_normalization_2 (Batc  (None, 64, 64, 64)       256       \n",
      " hNormalization)                                                 \n",
      "                                                                 \n",
      " conv2d_3 (Conv2D)           (None, 64, 64, 64)        36928     \n",
      "                                                                 \n",
      " batch_normalization_3 (Batc  (None, 64, 64, 64)       256       \n",
      " hNormalization)                                                 \n",
      "                                                                 \n",
      " max_pooling2d_1 (MaxPooling  (None, 32, 32, 64)       0         \n",
      " 2D)                                                             \n",
      "                                                                 \n",
      " conv2d_4 (Conv2D)           (None, 32, 32, 128)       73856     \n",
      "                                                                 \n",
      " batch_normalization_4 (Batc  (None, 32, 32, 128)      512       \n",
      " hNormalization)                                                 \n",
      "                                                                 \n",
      " conv2d_5 (Conv2D)           (None, 32, 32, 128)       147584    \n",
      "                                                                 \n",
      " batch_normalization_5 (Batc  (None, 32, 32, 128)      512       \n",
      " hNormalization)                                                 \n",
      "                                                                 \n",
      " max_pooling2d_2 (MaxPooling  (None, 16, 16, 128)      0         \n",
      " 2D)                                                             \n",
      "                                                                 \n",
      " conv2d_6 (Conv2D)           (None, 16, 16, 128)       147584    \n",
      "                                                                 \n",
      " batch_normalization_6 (Batc  (None, 16, 16, 128)      512       \n",
      " hNormalization)                                                 \n",
      "                                                                 \n",
      " conv2d_7 (Conv2D)           (None, 16, 16, 128)       147584    \n",
      "                                                                 \n",
      " batch_normalization_7 (Batc  (None, 16, 16, 128)      512       \n",
      " hNormalization)                                                 \n",
      "                                                                 \n",
      " flatten (Flatten)           (None, 32768)             0         \n",
      "                                                                 \n",
      " dropout (Dropout)           (None, 32768)             0         \n",
      "                                                                 \n",
      " dense (Dense)               (None, 1024)              33555456  \n",
      "                                                                 \n",
      " dropout_1 (Dropout)         (None, 1024)              0         \n",
      "                                                                 \n",
      " dense_1 (Dense)             (None, 8)                 8200      \n",
      "                                                                 \n",
      "=================================================================\n",
      "Total params: 34,195,336\n",
      "Trainable params: 34,193,800\n",
      "Non-trainable params: 1,536\n",
      "_________________________________________________________________\n",
      "None\n"
     ]
    }
   ],
   "source": [
    "def homography_net():\n",
    "    input_shape = (128, 128, 2)\n",
    "    kernel_size = 3\n",
    "    pool_size = 2\n",
    "    filters = 64\n",
    "    dropout = 0.5\n",
    "\n",
    "    model = Sequential()\n",
    "    model.add(InputLayer(input_shape))\n",
    "    model.add(Conv2D(filters=filters,\\\n",
    "            kernel_size=kernel_size, activation='relu', padding='same'))\n",
    "    model.add(BatchNormalization())\n",
    "    model.add(Conv2D(filters=filters,\\\n",
    "            kernel_size=kernel_size, activation='relu', padding='same'))\n",
    "    model.add(BatchNormalization())\n",
    "    model.add(MaxPooling2D(pool_size))\n",
    "    model.add(Conv2D(filters=filters,\\\n",
    "            kernel_size=kernel_size, activation='relu', padding='same'))\n",
    "    model.add(BatchNormalization())\n",
    "    model.add(Conv2D(filters=filters,\\\n",
    "            kernel_size=kernel_size, activation='relu', padding='same'))\n",
    "    model.add(BatchNormalization())\n",
    "    model.add(MaxPooling2D(pool_size))\n",
    "    model.add(Conv2D(filters=filters*2,\\\n",
    "            kernel_size=kernel_size, activation='relu', padding='same',))\n",
    "    model.add(BatchNormalization())\n",
    "    model.add(Conv2D(filters=filters*2,\\\n",
    "            kernel_size=kernel_size, activation='relu', padding='same',))\n",
    "    model.add(BatchNormalization())\n",
    "    model.add(MaxPooling2D(pool_size))\n",
    "    model.add(Conv2D(filters=filters*2,\\\n",
    "            kernel_size=kernel_size, activation='relu', padding='same',))\n",
    "    model.add(BatchNormalization())\n",
    "    model.add(Conv2D(filters=filters*2,\\\n",
    "            kernel_size=kernel_size, activation='relu', padding='same',))\n",
    "    model.add(BatchNormalization())\n",
    "    model.add(Flatten())\n",
    "    model.add(Dropout(dropout))\n",
    "    model.add(Dense(1024, activation='relu'))\n",
    "    model.add(Dropout(dropout))\n",
    "    model.add(Dense(8))\n",
    "    return model\n",
    "\n",
    "model = homography_net()\n",
    "sgd = tf.optimizers.SGD(learning_rate=0.005, momentum=0.9)\n",
    "\n",
    "def euclidean_l2(y_true, y_pred):\n",
    "    return K.sqrt(K.sum(K.square(y_pred - y_true), axis=-1, keepdims=True))\n",
    "model.compile(optimizer=sgd, loss=euclidean_l2, metrics=['mean_squared_error'])\n",
    "\n",
    "print(model.summary())"
   ]
  },
  {
   "cell_type": "markdown",
   "metadata": {},
   "source": [
    "# train network"
   ]
  },
  {
   "cell_type": "code",
   "execution_count": 5,
   "metadata": {},
   "outputs": [
    {
     "name": "stdout",
     "output_type": "stream",
     "text": [
      "Epoch 1/50\n"
     ]
    },
    {
     "name": "stderr",
     "output_type": "stream",
     "text": [
      "2022-09-29 18:49:28.864331: I tensorflow/stream_executor/cuda/cuda_dnn.cc:384] Loaded cuDNN version 8500\n",
      "2022-09-29 18:49:30.184500: I tensorflow/stream_executor/cuda/cuda_blas.cc:1614] TensorFloat-32 will be used for the matrix multiplication. This will only be logged once.\n"
     ]
    },
    {
     "name": "stdout",
     "output_type": "stream",
     "text": [
      "1230/1230 [==============================] - 171s 135ms/step - loss: 0.8591 - mean_squared_error: 0.1879 - val_loss: 0.5591 - val_mean_squared_error: 0.0504\n",
      "Epoch 2/50\n",
      "1230/1230 [==============================] - 164s 133ms/step - loss: 0.6338 - mean_squared_error: 0.0629 - val_loss: 0.4916 - val_mean_squared_error: 0.0386\n",
      "Epoch 3/50\n",
      "1230/1230 [==============================] - 161s 131ms/step - loss: 0.5822 - mean_squared_error: 0.0538 - val_loss: 0.4526 - val_mean_squared_error: 0.0325\n",
      "Epoch 4/50\n",
      "1230/1230 [==============================] - 161s 131ms/step - loss: 0.5335 - mean_squared_error: 0.0460 - val_loss: 0.4066 - val_mean_squared_error: 0.0279\n",
      "Epoch 5/50\n",
      "1230/1230 [==============================] - 161s 131ms/step - loss: 0.4853 - mean_squared_error: 0.0390 - val_loss: 0.3701 - val_mean_squared_error: 0.0241\n",
      "Epoch 6/50\n",
      "1230/1230 [==============================] - 161s 131ms/step - loss: 0.4393 - mean_squared_error: 0.0329 - val_loss: 0.3255 - val_mean_squared_error: 0.0192\n",
      "Epoch 7/50\n",
      "1230/1230 [==============================] - 161s 131ms/step - loss: 0.3991 - mean_squared_error: 0.0281 - val_loss: 0.3035 - val_mean_squared_error: 0.0182\n",
      "Epoch 8/50\n",
      "1230/1230 [==============================] - 161s 131ms/step - loss: 0.3677 - mean_squared_error: 0.0245 - val_loss: 0.3086 - val_mean_squared_error: 0.0191\n",
      "Epoch 9/50\n",
      "1230/1230 [==============================] - 161s 131ms/step - loss: 0.3430 - mean_squared_error: 0.0219 - val_loss: 0.2606 - val_mean_squared_error: 0.0136\n",
      "Epoch 10/50\n",
      "1230/1230 [==============================] - 161s 131ms/step - loss: 0.3207 - mean_squared_error: 0.0198 - val_loss: 0.2464 - val_mean_squared_error: 0.0117\n",
      "Epoch 11/50\n",
      "1230/1230 [==============================] - 161s 131ms/step - loss: 0.3048 - mean_squared_error: 0.0182 - val_loss: 0.2361 - val_mean_squared_error: 0.0115\n",
      "Epoch 12/50\n",
      "1230/1230 [==============================] - 161s 131ms/step - loss: 0.2878 - mean_squared_error: 0.0164 - val_loss: 0.2342 - val_mean_squared_error: 0.0109\n",
      "Epoch 13/50\n",
      "1230/1230 [==============================] - 161s 131ms/step - loss: 0.2777 - mean_squared_error: 0.0155 - val_loss: 0.2195 - val_mean_squared_error: 0.0095\n",
      "Epoch 14/50\n",
      "1230/1230 [==============================] - 161s 131ms/step - loss: 0.2658 - mean_squared_error: 0.0141 - val_loss: 0.2939 - val_mean_squared_error: 0.0177\n",
      "Epoch 15/50\n",
      "1230/1230 [==============================] - 161s 131ms/step - loss: 0.2566 - mean_squared_error: 0.0133 - val_loss: 0.2614 - val_mean_squared_error: 0.0133\n",
      "Epoch 16/50\n",
      "1230/1230 [==============================] - 162s 131ms/step - loss: 0.2471 - mean_squared_error: 0.0124 - val_loss: 0.2147 - val_mean_squared_error: 0.0092\n",
      "Epoch 17/50\n",
      "1230/1230 [==============================] - 161s 131ms/step - loss: 0.2385 - mean_squared_error: 0.0115 - val_loss: 0.1987 - val_mean_squared_error: 0.0081\n",
      "Epoch 18/50\n",
      "1230/1230 [==============================] - 161s 131ms/step - loss: 0.2295 - mean_squared_error: 0.0107 - val_loss: 0.2114 - val_mean_squared_error: 0.0084\n",
      "Epoch 19/50\n",
      "1230/1230 [==============================] - 161s 131ms/step - loss: 0.2237 - mean_squared_error: 0.0102 - val_loss: 0.1778 - val_mean_squared_error: 0.0069\n",
      "Epoch 20/50\n",
      "1230/1230 [==============================] - 162s 131ms/step - loss: 0.2155 - mean_squared_error: 0.0094 - val_loss: 0.1966 - val_mean_squared_error: 0.0080\n",
      "Epoch 21/50\n",
      "1230/1230 [==============================] - 162s 131ms/step - loss: 0.2096 - mean_squared_error: 0.0090 - val_loss: 0.2286 - val_mean_squared_error: 0.0125\n",
      "Epoch 22/50\n",
      "1230/1230 [==============================] - 161s 131ms/step - loss: 0.2041 - mean_squared_error: 0.0085 - val_loss: 0.2045 - val_mean_squared_error: 0.0080\n",
      "Epoch 23/50\n",
      "1230/1230 [==============================] - 161s 131ms/step - loss: 0.1967 - mean_squared_error: 0.0077 - val_loss: 0.1828 - val_mean_squared_error: 0.0075\n",
      "Epoch 24/50\n",
      "1230/1230 [==============================] - 161s 131ms/step - loss: 0.1907 - mean_squared_error: 0.0073 - val_loss: 0.1673 - val_mean_squared_error: 0.0062\n",
      "Epoch 25/50\n",
      "1230/1230 [==============================] - 161s 131ms/step - loss: 0.1856 - mean_squared_error: 0.0069 - val_loss: 0.1864 - val_mean_squared_error: 0.0068\n",
      "Epoch 26/50\n",
      "1230/1230 [==============================] - 161s 131ms/step - loss: 0.1810 - mean_squared_error: 0.0064 - val_loss: 0.1340 - val_mean_squared_error: 0.0046\n",
      "Epoch 27/50\n",
      "1230/1230 [==============================] - 162s 131ms/step - loss: 0.1763 - mean_squared_error: 0.0061 - val_loss: 0.1615 - val_mean_squared_error: 0.0059\n",
      "Epoch 28/50\n",
      "1230/1230 [==============================] - 161s 131ms/step - loss: 0.1733 - mean_squared_error: 0.0059 - val_loss: 0.1330 - val_mean_squared_error: 0.0044\n",
      "Epoch 29/50\n",
      "1230/1230 [==============================] - 161s 131ms/step - loss: 0.1705 - mean_squared_error: 0.0057 - val_loss: 0.1568 - val_mean_squared_error: 0.0055\n",
      "Epoch 30/50\n",
      "1230/1230 [==============================] - 173s 141ms/step - loss: 0.1676 - mean_squared_error: 0.0055 - val_loss: 0.1432 - val_mean_squared_error: 0.0058\n",
      "Epoch 31/50\n",
      "1230/1230 [==============================] - 172s 140ms/step - loss: 0.1641 - mean_squared_error: 0.0053 - val_loss: 0.1317 - val_mean_squared_error: 0.0044\n",
      "Epoch 32/50\n",
      "1230/1230 [==============================] - 171s 139ms/step - loss: 0.1606 - mean_squared_error: 0.0050 - val_loss: 0.1133 - val_mean_squared_error: 0.0033\n",
      "Epoch 33/50\n",
      "1230/1230 [==============================] - 172s 140ms/step - loss: 0.1574 - mean_squared_error: 0.0049 - val_loss: 0.1331 - val_mean_squared_error: 0.0045\n",
      "Epoch 34/50\n",
      "1230/1230 [==============================] - 171s 139ms/step - loss: 0.1579 - mean_squared_error: 0.0049 - val_loss: 0.1257 - val_mean_squared_error: 0.0040\n",
      "Epoch 35/50\n",
      "1230/1230 [==============================] - 170s 138ms/step - loss: 0.1544 - mean_squared_error: 0.0047 - val_loss: 0.1103 - val_mean_squared_error: 0.0033\n",
      "Epoch 36/50\n",
      "1230/1230 [==============================] - 169s 137ms/step - loss: 0.1519 - mean_squared_error: 0.0045 - val_loss: 0.1199 - val_mean_squared_error: 0.0035\n",
      "Epoch 37/50\n",
      "1230/1230 [==============================] - 168s 136ms/step - loss: 0.1502 - mean_squared_error: 0.0044 - val_loss: 0.1173 - val_mean_squared_error: 0.0036\n",
      "Epoch 38/50\n",
      "1230/1230 [==============================] - 169s 138ms/step - loss: 0.1475 - mean_squared_error: 0.0043 - val_loss: 0.1068 - val_mean_squared_error: 0.0033\n",
      "Epoch 39/50\n",
      "1230/1230 [==============================] - 168s 136ms/step - loss: 0.1463 - mean_squared_error: 0.0042 - val_loss: 0.1228 - val_mean_squared_error: 0.0035\n",
      "Epoch 40/50\n",
      "1230/1230 [==============================] - 168s 136ms/step - loss: 0.1441 - mean_squared_error: 0.0041 - val_loss: 0.1153 - val_mean_squared_error: 0.0039\n",
      "Epoch 41/50\n",
      "1230/1230 [==============================] - 168s 137ms/step - loss: 0.1430 - mean_squared_error: 0.0040 - val_loss: 0.1102 - val_mean_squared_error: 0.0033\n",
      "Epoch 42/50\n",
      "1230/1230 [==============================] - 169s 137ms/step - loss: 0.1411 - mean_squared_error: 0.0039 - val_loss: 0.1218 - val_mean_squared_error: 0.0036\n",
      "Epoch 43/50\n",
      "1230/1230 [==============================] - 173s 140ms/step - loss: 0.1395 - mean_squared_error: 0.0039 - val_loss: 0.1013 - val_mean_squared_error: 0.0029\n",
      "Epoch 44/50\n",
      "1230/1230 [==============================] - 161s 131ms/step - loss: 0.1376 - mean_squared_error: 0.0037 - val_loss: 0.1218 - val_mean_squared_error: 0.0034\n",
      "Epoch 45/50\n",
      "1230/1230 [==============================] - 160s 130ms/step - loss: 0.1364 - mean_squared_error: 0.0037 - val_loss: 0.1066 - val_mean_squared_error: 0.0029\n",
      "Epoch 46/50\n",
      "1230/1230 [==============================] - 160s 130ms/step - loss: 0.1351 - mean_squared_error: 0.0036 - val_loss: 0.0945 - val_mean_squared_error: 0.0027\n",
      "Epoch 47/50\n",
      "1230/1230 [==============================] - 161s 131ms/step - loss: 0.1331 - mean_squared_error: 0.0035 - val_loss: 0.1048 - val_mean_squared_error: 0.0031\n",
      "Epoch 48/50\n",
      "1230/1230 [==============================] - 160s 130ms/step - loss: 0.1321 - mean_squared_error: 0.0035 - val_loss: 0.0961 - val_mean_squared_error: 0.0027\n",
      "Epoch 49/50\n",
      "1230/1230 [==============================] - 160s 130ms/step - loss: 0.1315 - mean_squared_error: 0.0034 - val_loss: 0.0962 - val_mean_squared_error: 0.0027\n",
      "Epoch 50/50\n",
      "1230/1230 [==============================] - 161s 131ms/step - loss: 0.1307 - mean_squared_error: 0.0034 - val_loss: 0.0951 - val_mean_squared_error: 0.0026\n"
     ]
    },
    {
     "name": "stderr",
     "output_type": "stream",
     "text": [
      "WARNING:absl:Found untraced functions such as _jit_compiled_convolution_op, _jit_compiled_convolution_op, _jit_compiled_convolution_op, _jit_compiled_convolution_op, _jit_compiled_convolution_op while saving (showing 5 of 8). These functions will not be directly callable after loading.\n"
     ]
    },
    {
     "name": "stdout",
     "output_type": "stream",
     "text": [
      "INFO:tensorflow:Assets written to: model/model_21_06_03/assets\n"
     ]
    },
    {
     "name": "stderr",
     "output_type": "stream",
     "text": [
      "INFO:tensorflow:Assets written to: model/model_21_06_03/assets\n"
     ]
    }
   ],
   "source": [
    "model_path = \"model\"\n",
    "\n",
    "# generator for model.fit()\n",
    "def generate(batch_size, s='train'):\n",
    "    batch_index = 0\n",
    "    while True:\n",
    "        if s == 'train':\n",
    "            data = training_data\n",
    "        elif s == 'val':\n",
    "            data = validation_data\n",
    "        else:\n",
    "            print('check operation mode parameter')\n",
    "            return None\n",
    "\n",
    "        batch_x, batch_y = [], []\n",
    "        for i in range(batch_size):\n",
    "            index = batch_index + i\n",
    "            if index >= len(data):\n",
    "                print(\"WARNING: check if batch size is factor of data size\")\n",
    "                index = index % len(data)\n",
    "            batch_x.append((data[index][0].astype(float) - 127.5) / 127.5)\n",
    "            batch_y.append(data[index][1].astype(float).flatten())\n",
    "        \n",
    "        batch_x = np.asarray(batch_x)\n",
    "        batch_y = np.asarray(batch_y)\n",
    "\n",
    "        yield batch_x, batch_y\n",
    "        batch_index += batch_size\n",
    "\n",
    "        # reset batch_index if next epoch\n",
    "        if s=='train' and batch_index >= len(training_data):\n",
    "            batch_index = 0\n",
    "        elif s=='val' and batch_index >= len(validation_data):\n",
    "            batch_index = 0\n",
    "\n",
    "if VALIDATION:\n",
    "    history = model.fit(generate(BATCH_SIZE_TRAIN, s='train'), epochs=EPOCHS, steps_per_epoch = len(training_data)//BATCH_SIZE_TRAIN, validation_data = generate(batch_size_val, s='val'), validation_steps = len(validation_data)//batch_size_val)\n",
    "else:\n",
    "    history = model.fit(generate(BATCH_SIZE_TRAIN, s='train'), epochs=EPOCHS, steps_per_epoch = len(training_data)//BATCH_SIZE_TRAIN)\n",
    "\n",
    "current_time = datetime.now().strftime(\"%H_%M_%S\")\n",
    "model.save(model_path + \"/model_\" + current_time, save_format='tf')"
   ]
  },
  {
   "cell_type": "code",
   "execution_count": 6,
   "metadata": {},
   "outputs": [
    {
     "data": {
      "image/png": "[encoded data removed]",
      "text/plain": [
       "<Figure size 640x480 with 1 Axes>"
      ]
     },
     "metadata": {},
     "output_type": "display_data"
    },
    {
     "data": {
      "image/png": "[encoded data removed]",
      "text/plain": [
       "<Figure size 640x480 with 1 Axes>"
      ]
     },
     "metadata": {},
     "output_type": "display_data"
    }
   ],
   "source": [
    "plt.plot(history.history['loss'])\n",
    "if VALIDATION:\n",
    "    plt.plot(history.history['val_loss'])\n",
    "plt.title('model loss')\n",
    "plt.ylabel('loss')\n",
    "plt.xlabel('epoch')\n",
    "plt.legend(['train', 'val'], loc='upper left')\n",
    "plt.show()\n",
    "\n",
    "# visualize mse\n",
    "plt.plot(history.history['mean_squared_error'])\n",
    "if VALIDATION:\n",
    "    plt.plot(history.history['val_mean_squared_error'])\n",
    "plt.title('model mae')\n",
    "plt.ylabel('mean_squared_error')\n",
    "plt.xlabel('epoch')\n",
    "plt.show()"
   ]
  }
 ],
 "metadata": {
  "kernelspec": {
   "display_name": "Python 3.10.6 64-bit",
   "language": "python",
   "name": "python3"
  },
  "language_info": {
   "codemirror_mode": {
    "name": "ipython",
    "version": 3
   },
   "file_extension": ".py",
   "mimetype": "text/x-python",
   "name": "python",
   "nbconvert_exporter": "python",
   "pygments_lexer": "ipython3",
   "version": "3.10.6"
  },
  "orig_nbformat": 4,
  "vscode": {
   "interpreter": {
    "hash": "916dbcbb3f70747c44a77c7bcd40155683ae19c65e1c03b4aa3499c5328201f1"
   }
  }
 },
 "nbformat": 4,
 "nbformat_minor": 2
}
