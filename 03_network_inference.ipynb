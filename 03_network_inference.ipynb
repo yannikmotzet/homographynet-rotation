{
 "cells": [
  {
   "cell_type": "code",
   "execution_count": 21,
   "metadata": {},
   "outputs": [],
   "source": [
    "import os\n",
    "import pickle\n",
    "import numpy as np\n",
    "from tqdm import tqdm\n",
    "import cv2\n",
    "import matplotlib.pyplot as plt\n",
    "\n",
    "from tensorflow import keras\n",
    "from keras import backend as K"
   ]
  },
  {
   "cell_type": "code",
   "execution_count": 3,
   "metadata": {},
   "outputs": [],
   "source": [
    "PATCH_SIZE = 128\n",
    "NORM_FACTOR = np.sqrt(PATCH_SIZE**2 + PATCH_SIZE**2)"
   ]
  },
  {
   "cell_type": "markdown",
   "metadata": {},
   "source": [
    "# load data and model"
   ]
  },
  {
   "cell_type": "code",
   "execution_count": 4,
   "metadata": {},
   "outputs": [],
   "source": [
    "# load test data\n",
    "data_path = \"data/\"\n",
    "test_path = data_path + \"test2014/test2014\"\n",
    "with open(os.path.join(test_path +\"_processed.pickle\"), \"rb\") as f:\n",
    "    test_data = pickle.load(f)\n",
    "print(len(test_data))\n",
    "\n",
    "# load model\n",
    "model_path = \"model/model_19_08_31/\"\n",
    "def euclidean_l2(y_true, y_pred):\n",
    "    return K.sqrt(K.sum(K.square(y_pred - y_true), axis=-1, keepdims=True))\n",
    "model = keras.models.load_model(model_path, custom_objects={'euclidean_l2': euclidean_l2})"
   ]
  },
  {
   "cell_type": "markdown",
   "metadata": {},
   "source": [
    "# network inference"
   ]
  },
  {
   "cell_type": "code",
   "execution_count": 11,
   "metadata": {},
   "outputs": [],
   "source": [
    "def generate(batch_size):\n",
    "    batch_index = 0\n",
    "    while True:\n",
    "        batch_x, batch_y = [], []\n",
    "        for i in range(batch_size):\n",
    "            index = batch_index + i\n",
    "            if index >= len(test_data):\n",
    "                print(\"WARNING: check if batch size is factor of data size\")\n",
    "                index = index % len(test_data)\n",
    "            batch_x.append((test_data[index][0].astype(float) - 127.5) / 127.5)\n",
    "            batch_y.append(test_data[index][1].astype(float).flatten())\n",
    "    \n",
    "        batch_x = np.asarray(batch_x)\n",
    "        batch_y = np.asarray(batch_y)\n",
    "\n",
    "        yield batch_x, batch_y\n",
    "        batch_index += batch_size\n",
    "\n",
    "        # reset batch_index if next epoch\n",
    "        if batch_index >= len(test_data):\n",
    "            batch_index = 0\n",
    "\n",
    "def rot_from_mat(mat):\n",
    "    return np.arctan2(mat[1,0], mat[0,0])\n",
    "\n",
    "def translation_from_mat(mat):\n",
    "    return [mat[0][2], mat[1][2]]\n",
    "\n",
    "def four_point_to_transformation(H_four_point):\n",
    "    top_left_point  = np.array([-int(PATCH_SIZE/2), -int(PATCH_SIZE/2)])\n",
    "    bottom_left_point = np.array([-(int(PATCH_SIZE/2)), int(PATCH_SIZE/2)])\n",
    "    bottom_right_point = np.array([int(PATCH_SIZE/2), int(PATCH_SIZE/2)])\n",
    "    top_right_point  = np.array([int(PATCH_SIZE/2), -int(PATCH_SIZE/2)])\n",
    "\n",
    "    M = cv2.getPerspectiveTransform(np.float32([top_left_point, bottom_left_point, bottom_right_point, top_right_point]), np.float32([top_left_point + H_four_point[0], bottom_left_point + H_four_point[1], bottom_right_point + H_four_point[2], top_right_point + H_four_point[3]]))\n",
    "\n",
    "    translation = translation_from_mat(M)\n",
    "    rotation = rot_from_mat(M)\n",
    "\n",
    "    return translation, rotation\n",
    "\n",
    "# https://github.com/ros/angles/blob/ros2/angles/angles/__init__.py#L42\n",
    "def normalize_angle(angle):\n",
    "    a = angle % (2.0*np.pi)\n",
    "    if a > np.pi:\n",
    "        a -= 2.0 * np.pi\n",
    "    return a"
   ]
  },
  {
   "cell_type": "code",
   "execution_count": 19,
   "metadata": {},
   "outputs": [
    {
     "name": "stderr",
     "output_type": "stream",
     "text": [
      "100%|██████████| 38875/38875 [55:46<00:00, 11.62it/s]  \n"
     ]
    }
   ],
   "source": [
    "top_left_point  = np.array([-int(PATCH_SIZE/2), -int(PATCH_SIZE/2)])\n",
    "bottom_left_point = np.array([-(int(PATCH_SIZE/2)), int(PATCH_SIZE/2)])\n",
    "bottom_right_point = np.array([int(PATCH_SIZE/2), int(PATCH_SIZE/2)])\n",
    "top_right_point  = np.array([int(PATCH_SIZE/2), -int(PATCH_SIZE/2)])\n",
    "\n",
    "rotation_error = []\n",
    "\n",
    "for i in tqdm(range(len(test_data))):\n",
    "    gt_transformation = four_point_to_transformation(test_data[i][1] * NORM_FACTOR)\n",
    "    gt_translation = gt_transformation[0]\n",
    "    gt_rotation = gt_transformation[1]\n",
    "\n",
    "    pair = ((test_data[i][0].astype(float) - 127.5) / 127.5).reshape(1, 128, 128, 2)\n",
    "    prediction = model.predict(pair, verbose = 0)[0, :] * NORM_FACTOR\n",
    "\n",
    "    four_points = [np.array([prediction[0], prediction[1]]), np.array([prediction[2], prediction[3]]), np.array([prediction[4], prediction[5]]), np.array([prediction[6], prediction[7]])]\n",
    "    M = cv2.getPerspectiveTransform(np.float32([top_left_point, bottom_left_point, bottom_right_point, top_right_point]), np.float32([top_left_point + four_points[0], bottom_left_point + four_points[1], bottom_right_point + four_points[2], top_right_point + four_points[3]]))\n",
    "\n",
    "    rotation_prediction = rot_from_mat(M)\n",
    "    translation_prediction = translation_from_mat(M)\n",
    "\n",
    "    rotation_error.append(np.degrees(normalize_angle(gt_rotation - rotation_prediction)))"
   ]
  },
  {
   "cell_type": "code",
   "execution_count": 26,
   "metadata": {},
   "outputs": [
    {
     "data": {
      "image/png": "[encoded data removed]",
      "text/plain": [
       "<Figure size 640x480 with 1 Axes>"
      ]
     },
     "metadata": {},
     "output_type": "display_data"
    }
   ],
   "source": [
    "plt.hist(rotation_error, bins=100)\n",
    "plt.title(\"rotation error\")\n",
    "text = f\"mean error: {np.mean(abs(np.array(rotation_error))):.4f}\\nmedian error: {np.median(abs(np.array(rotation_error))):.4f}\"\n",
    "plt.text(-150, 7000, s=text)\n",
    "plt.xlabel(\"rotation error [°]\")\n",
    "plt.ylabel(\"number of pairs\")\n",
    "plt.show()"
   ]
  }
 ],
 "metadata": {
  "kernelspec": {
   "display_name": "Python 3.10.7 64-bit",
   "language": "python",
   "name": "python3"
  },
  "language_info": {
   "codemirror_mode": {
    "name": "ipython",
    "version": 3
   },
   "file_extension": ".py",
   "mimetype": "text/x-python",
   "name": "python",
   "nbconvert_exporter": "python",
   "pygments_lexer": "ipython3",
   "version": "3.10.7"
  },
  "orig_nbformat": 4,
  "vscode": {
   "interpreter": {
    "hash": "d0620f40e2353b6d35268ab276de4393f4e99801270e1c452fb1fe73380c5b64"
   }
  }
 },
 "nbformat": 4,
 "nbformat_minor": 2
}
